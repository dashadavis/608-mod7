{
 "cells": [
  {
   "cell_type": "markdown",
   "id": "706cb01f-c37f-4a52-b29e-d4c4d8af3668",
   "metadata": {},
   "source": [
    "# Dasha Davis Module 7, Ch. 10"
   ]
  },
  {
   "cell_type": "code",
   "execution_count": 2,
   "id": "ed6370bb-2442-4f9d-b85a-fa478e32ca21",
   "metadata": {},
   "outputs": [],
   "source": [
    "#Custom class account, 10.2"
   ]
  },
  {
   "cell_type": "code",
   "execution_count": 3,
   "id": "279bbce5-b123-4220-8c62-efc1bc1ecd1d",
   "metadata": {},
   "outputs": [],
   "source": [
    "#10.2.1"
   ]
  },
  {
   "cell_type": "code",
   "execution_count": 4,
   "id": "bd834736-06df-4d24-b0bf-7db2658a92ed",
   "metadata": {},
   "outputs": [
    {
     "ename": "ImportError",
     "evalue": "cannot import name 'decimal' from 'decimal' (C:\\Users\\Dasha\\miniconda3\\lib\\decimal.py)",
     "output_type": "error",
     "traceback": [
      "\u001b[1;31m---------------------------------------------------------------------------\u001b[0m",
      "\u001b[1;31mImportError\u001b[0m                               Traceback (most recent call last)",
      "Input \u001b[1;32mIn [4]\u001b[0m, in \u001b[0;36m<cell line: 3>\u001b[1;34m()\u001b[0m\n\u001b[0;32m      1\u001b[0m \u001b[38;5;28;01mfrom\u001b[39;00m \u001b[38;5;21;01maccount\u001b[39;00m \u001b[38;5;28;01mimport\u001b[39;00m Account\n\u001b[1;32m----> 3\u001b[0m \u001b[38;5;28;01mfrom\u001b[39;00m \u001b[38;5;21;01mdecimal\u001b[39;00m \u001b[38;5;28;01mimport\u001b[39;00m decimal\n",
      "\u001b[1;31mImportError\u001b[0m: cannot import name 'decimal' from 'decimal' (C:\\Users\\Dasha\\miniconda3\\lib\\decimal.py)"
     ]
    }
   ],
   "source": [
    "from account import Account  #the Account class was created and in ch.10 examples folder\n",
    "\n",
    "from decimal import decimal"
   ]
  },
  {
   "cell_type": "code",
   "execution_count": 5,
   "id": "a88f92ee-4376-4fe1-ab33-8b3e06870f75",
   "metadata": {},
   "outputs": [],
   "source": [
    "# didn't capitalize 2nd 'decimal'"
   ]
  },
  {
   "cell_type": "code",
   "execution_count": 98,
   "id": "c07cebc8-184d-42eb-8b3b-2b532ae4390a",
   "metadata": {},
   "outputs": [],
   "source": [
    "from account import Account\n",
    "\n",
    "from decimal import Decimal"
   ]
  },
  {
   "cell_type": "code",
   "execution_count": 99,
   "id": "ed81858f-dabf-46ee-b428-6bdb65fefd27",
   "metadata": {},
   "outputs": [],
   "source": [
    "account1 = Account('John Green', Decimal('50.00'))"
   ]
  },
  {
   "cell_type": "code",
   "execution_count": 100,
   "id": "5ab6e7e4-61d2-402f-aa73-d528e07eabba",
   "metadata": {},
   "outputs": [],
   "source": [
    "# getting an Account object's name and balance attributes"
   ]
  },
  {
   "cell_type": "code",
   "execution_count": 101,
   "id": "2fce7e45-6685-452e-949c-6aacd6ac1091",
   "metadata": {},
   "outputs": [
    {
     "data": {
      "text/plain": [
       "'John Green'"
      ]
     },
     "execution_count": 101,
     "metadata": {},
     "output_type": "execute_result"
    }
   ],
   "source": [
    "account1.name"
   ]
  },
  {
   "cell_type": "code",
   "execution_count": 102,
   "id": "bc5aa74a-b49f-4530-8ead-3abf195c92eb",
   "metadata": {},
   "outputs": [
    {
     "data": {
      "text/plain": [
       "Decimal('50.00')"
      ]
     },
     "execution_count": 102,
     "metadata": {},
     "output_type": "execute_result"
    }
   ],
   "source": [
    "account1.balance"
   ]
  },
  {
   "cell_type": "code",
   "execution_count": null,
   "id": "193c4d5b-620f-450a-bda3-b6c00bbeca64",
   "metadata": {},
   "outputs": [],
   "source": []
  },
  {
   "cell_type": "code",
   "execution_count": 103,
   "id": "11ee4b89-164e-4ce1-95a5-0dedaec5177b",
   "metadata": {},
   "outputs": [],
   "source": [
    "# depositing money into an Account by using Account's deposit method (from ch. 10 examples)"
   ]
  },
  {
   "cell_type": "code",
   "execution_count": 104,
   "id": "c3b454ad-31ce-45b1-a9c5-a3a99664851e",
   "metadata": {},
   "outputs": [
    {
     "data": {
      "text/plain": [
       "Decimal('75.53')"
      ]
     },
     "execution_count": 104,
     "metadata": {},
     "output_type": "execute_result"
    }
   ],
   "source": [
    "account1.deposit(Decimal('25.53'))\n",
    "\n",
    "account1.balance"
   ]
  },
  {
   "cell_type": "code",
   "execution_count": 13,
   "id": "db8cc432-d95e-405b-8f55-bbbdf80116ed",
   "metadata": {},
   "outputs": [],
   "source": [
    "#Account Methods Perform Validation - if a deposit amount is negative, you get a ValueError"
   ]
  },
  {
   "cell_type": "code",
   "execution_count": 14,
   "id": "9c440102-c559-4cf5-ad6e-1cb41ed39c3c",
   "metadata": {},
   "outputs": [
    {
     "ename": "ValueError",
     "evalue": "amount must be positive.",
     "output_type": "error",
     "traceback": [
      "\u001b[1;31m---------------------------------------------------------------------------\u001b[0m",
      "\u001b[1;31mValueError\u001b[0m                                Traceback (most recent call last)",
      "Input \u001b[1;32mIn [14]\u001b[0m, in \u001b[0;36m<cell line: 1>\u001b[1;34m()\u001b[0m\n\u001b[1;32m----> 1\u001b[0m \u001b[43maccount1\u001b[49m\u001b[38;5;241;43m.\u001b[39;49m\u001b[43mdeposit\u001b[49m\u001b[43m(\u001b[49m\u001b[43mDecimal\u001b[49m\u001b[43m(\u001b[49m\u001b[38;5;124;43m'\u001b[39;49m\u001b[38;5;124;43m-123.45\u001b[39;49m\u001b[38;5;124;43m'\u001b[39;49m\u001b[43m)\u001b[49m\u001b[43m)\u001b[49m\n",
      "File \u001b[1;32m~\\Documents\\NWMSU\\44-608\\608-mod7\\608-mod7\\ch10\\account.py:23\u001b[0m, in \u001b[0;36mAccount.deposit\u001b[1;34m(self, amount)\u001b[0m\n\u001b[0;32m     21\u001b[0m \u001b[38;5;66;03m# if amount is less than 0.00, raise an exception\u001b[39;00m\n\u001b[0;32m     22\u001b[0m \u001b[38;5;28;01mif\u001b[39;00m amount \u001b[38;5;241m<\u001b[39m Decimal(\u001b[38;5;124m'\u001b[39m\u001b[38;5;124m0.00\u001b[39m\u001b[38;5;124m'\u001b[39m):\n\u001b[1;32m---> 23\u001b[0m     \u001b[38;5;28;01mraise\u001b[39;00m \u001b[38;5;167;01mValueError\u001b[39;00m(\u001b[38;5;124m'\u001b[39m\u001b[38;5;124mamount must be positive.\u001b[39m\u001b[38;5;124m'\u001b[39m)\n\u001b[0;32m     25\u001b[0m \u001b[38;5;28mself\u001b[39m\u001b[38;5;241m.\u001b[39mbalance \u001b[38;5;241m+\u001b[39m\u001b[38;5;241m=\u001b[39m amount\n",
      "\u001b[1;31mValueError\u001b[0m: amount must be positive."
     ]
    }
   ],
   "source": [
    "account1.deposit(Decimal('-123.45'))"
   ]
  },
  {
   "cell_type": "code",
   "execution_count": 15,
   "id": "45ad8d0d-0068-43e2-a27e-1402dbf5d274",
   "metadata": {},
   "outputs": [],
   "source": [
    "#this ValueError was because the deposit was negative."
   ]
  },
  {
   "cell_type": "code",
   "execution_count": null,
   "id": "1f26998e-c5a9-4767-ac60-34657532a94c",
   "metadata": {},
   "outputs": [],
   "source": []
  },
  {
   "cell_type": "markdown",
   "id": "ec7db077-6a1f-4733-be45-18958918dbc8",
   "metadata": {},
   "source": [
    "## 10.2.2, Account Class Definition, p. 360"
   ]
  },
  {
   "cell_type": "markdown",
   "id": "53e9599d-70a9-4c1a-bd41-6107bdb5bfc0",
   "metadata": {},
   "source": [
    "## Self Check 10.2.3, p. 362"
   ]
  },
  {
   "cell_type": "code",
   "execution_count": 53,
   "id": "62bc84ad-74c9-41b7-9f2f-5f42c787a9e0",
   "metadata": {},
   "outputs": [],
   "source": [
    "#testing method withdraw"
   ]
  },
  {
   "cell_type": "code",
   "execution_count": 106,
   "id": "eea327a9-d71d-430e-a0ed-c883941ba602",
   "metadata": {},
   "outputs": [],
   "source": [
    "from decimal import Decimal\n",
    "\n",
    "class Account:\n",
    "    \n",
    "    def withdraw(self,amount):\n",
    "        if amount > self.balance:\n",
    "            raise ValueError('amount must be <= to balance.')\n",
    "        if amount < Decimal('0.00'):\n",
    "            raise ValueError('amount must be positive.')   \n",
    "        self.balance-=amount\n",
    "        \n",
    "        \n",
    "        "
   ]
  },
  {
   "cell_type": "code",
   "execution_count": 107,
   "id": "ac9d6de1-cce8-4c96-b80e-12d79cc01d71",
   "metadata": {},
   "outputs": [],
   "source": [
    "from account import Account\n",
    "\n",
    "from decimal import Decimal"
   ]
  },
  {
   "cell_type": "code",
   "execution_count": 112,
   "id": "22d2d8a8-1d3b-46a9-ba95-8e4e894f8f12",
   "metadata": {},
   "outputs": [],
   "source": [
    "account1 = Account('John Green', Decimal('50.00'))"
   ]
  },
  {
   "cell_type": "code",
   "execution_count": 113,
   "id": "3e31ae2a-c77e-4c3a-b2f8-90935cf24d8e",
   "metadata": {},
   "outputs": [
    {
     "ename": "AttributeError",
     "evalue": "'Account' object has no attribute 'withdraw'",
     "output_type": "error",
     "traceback": [
      "\u001b[1;31m---------------------------------------------------------------------------\u001b[0m",
      "\u001b[1;31mAttributeError\u001b[0m                            Traceback (most recent call last)",
      "Input \u001b[1;32mIn [113]\u001b[0m, in \u001b[0;36m<cell line: 1>\u001b[1;34m()\u001b[0m\n\u001b[1;32m----> 1\u001b[0m \u001b[43maccount1\u001b[49m\u001b[38;5;241;43m.\u001b[39;49m\u001b[43mwithdraw\u001b[49m(Decimal(\u001b[38;5;124m'\u001b[39m\u001b[38;5;124m20.00\u001b[39m\u001b[38;5;124m'\u001b[39m))\n",
      "\u001b[1;31mAttributeError\u001b[0m: 'Account' object has no attribute 'withdraw'"
     ]
    }
   ],
   "source": [
    "account1.withdraw(Decimal('20.00'))"
   ]
  },
  {
   "cell_type": "code",
   "execution_count": 111,
   "id": "f9fdac46-b431-4e52-bf52-ce315e330ad2",
   "metadata": {},
   "outputs": [
    {
     "ename": "AttributeError",
     "evalue": "'Account' object has no attribute 'withdraw'",
     "output_type": "error",
     "traceback": [
      "\u001b[1;31m---------------------------------------------------------------------------\u001b[0m",
      "\u001b[1;31mAttributeError\u001b[0m                            Traceback (most recent call last)",
      "Input \u001b[1;32mIn [111]\u001b[0m, in \u001b[0;36m<cell line: 1>\u001b[1;34m()\u001b[0m\n\u001b[1;32m----> 1\u001b[0m \u001b[43maccount1\u001b[49m\u001b[38;5;241;43m.\u001b[39;49m\u001b[43mwithdraw\u001b[49m(Decimal(\u001b[38;5;124m'\u001b[39m\u001b[38;5;124m20.00\u001b[39m\u001b[38;5;124m'\u001b[39m))\n\u001b[0;32m      3\u001b[0m account1\u001b[38;5;241m.\u001b[39mbalance\n",
      "\u001b[1;31mAttributeError\u001b[0m: 'Account' object has no attribute 'withdraw'"
     ]
    }
   ],
   "source": [
    "account1.balance"
   ]
  },
  {
   "cell_type": "code",
   "execution_count": null,
   "id": "31e10569-3cc5-4e19-90fc-db60e1a83836",
   "metadata": {},
   "outputs": [],
   "source": [
    "# I don't know why I'm getting an attribute error. Maybe someone will help me in the discussion post. "
   ]
  },
  {
   "cell_type": "code",
   "execution_count": null,
   "id": "ae779145-95e5-45aa-9bc0-114a009ebf37",
   "metadata": {},
   "outputs": [],
   "source": []
  },
  {
   "cell_type": "code",
   "execution_count": 62,
   "id": "47ba6934-9701-408d-8d4b-654ab8927613",
   "metadata": {},
   "outputs": [],
   "source": [
    "#10.3"
   ]
  },
  {
   "cell_type": "code",
   "execution_count": 63,
   "id": "8c0cf269-9d8e-4fc4-a9c2-c1131074ca2f",
   "metadata": {},
   "outputs": [
    {
     "data": {
      "text/plain": [
       "Decimal('50.00')"
      ]
     },
     "execution_count": 63,
     "metadata": {},
     "output_type": "execute_result"
    }
   ],
   "source": [
    "from account import Account\n",
    "\n",
    "from decimal import Decimal\n",
    "\n",
    "account1 = Account('John Green', Decimal('50.00'))\n",
    "\n",
    "account1.balance"
   ]
  },
  {
   "cell_type": "code",
   "execution_count": 64,
   "id": "568f84f7-9c52-4d70-84b9-94f34cfca966",
   "metadata": {},
   "outputs": [],
   "source": [
    "#setting balance attribute to an invalid negative value"
   ]
  },
  {
   "cell_type": "code",
   "execution_count": 65,
   "id": "19ce8baf-5002-43e4-818a-aa694e9f5e3d",
   "metadata": {},
   "outputs": [
    {
     "data": {
      "text/plain": [
       "Decimal('-1000.00')"
      ]
     },
     "execution_count": 65,
     "metadata": {},
     "output_type": "execute_result"
    }
   ],
   "source": [
    "account1.balance = Decimal('-1000.00')\n",
    "\n",
    "account1.balance"
   ]
  },
  {
   "cell_type": "code",
   "execution_count": null,
   "id": "d48f286a-418c-4114-9c7e-4acae5f803b6",
   "metadata": {},
   "outputs": [],
   "source": [
    "#unlike methods, data attributes cannot validate the values you assign to them"
   ]
  },
  {
   "cell_type": "code",
   "execution_count": null,
   "id": "5c5d3435-2342-47b6-984c-7663e8937e1a",
   "metadata": {},
   "outputs": [],
   "source": []
  },
  {
   "cell_type": "code",
   "execution_count": 114,
   "id": "34bf1358-907f-4ef4-aac6-e500bd11fad3",
   "metadata": {},
   "outputs": [],
   "source": [
    "# Class:Time"
   ]
  },
  {
   "cell_type": "code",
   "execution_count": 115,
   "id": "5ab9dbc8-7dc8-4fa1-b6df-e2af6cb652cc",
   "metadata": {},
   "outputs": [],
   "source": [
    "from timewithproperties import Time"
   ]
  },
  {
   "cell_type": "code",
   "execution_count": 116,
   "id": "3889b90f-0b1a-49ad-b4c4-96c88bf1766c",
   "metadata": {},
   "outputs": [],
   "source": [
    "#creating a Time Object"
   ]
  },
  {
   "cell_type": "code",
   "execution_count": 117,
   "id": "95fd597b-e68b-4b89-9996-ac225b96711c",
   "metadata": {},
   "outputs": [
    {
     "data": {
      "text/plain": [
       "Time(hour=6, minute=30, second=0)"
      ]
     },
     "execution_count": 117,
     "metadata": {},
     "output_type": "execute_result"
    }
   ],
   "source": [
    "wake_up = Time(hour=6, minute=30)\n",
    "\n",
    "wake_up"
   ]
  },
  {
   "cell_type": "code",
   "execution_count": 118,
   "id": "fa62caca-3189-4ee8-9ee9-d575386a4dce",
   "metadata": {},
   "outputs": [
    {
     "name": "stdout",
     "output_type": "stream",
     "text": [
      "6:30:00 AM\n"
     ]
    }
   ],
   "source": [
    "print(wake_up)"
   ]
  },
  {
   "cell_type": "code",
   "execution_count": 119,
   "id": "68fded17-e1e2-4454-bb2c-c6cf6f035f0c",
   "metadata": {},
   "outputs": [],
   "source": [
    "#getting an attribute via a property"
   ]
  },
  {
   "cell_type": "code",
   "execution_count": 120,
   "id": "e6fa44f6-f860-4d53-b43f-f951763cae6c",
   "metadata": {},
   "outputs": [
    {
     "data": {
      "text/plain": [
       "6"
      ]
     },
     "execution_count": 120,
     "metadata": {},
     "output_type": "execute_result"
    }
   ],
   "source": [
    "wake_up.hour"
   ]
  },
  {
   "cell_type": "code",
   "execution_count": 121,
   "id": "3cb34abc-f571-4c98-bdf3-701080bf8439",
   "metadata": {},
   "outputs": [],
   "source": [
    "#setting the time"
   ]
  },
  {
   "cell_type": "code",
   "execution_count": 122,
   "id": "7efa305e-071a-4bc8-ad56-a17930f85409",
   "metadata": {},
   "outputs": [
    {
     "data": {
      "text/plain": [
       "Time(hour=7, minute=45, second=0)"
      ]
     },
     "execution_count": 122,
     "metadata": {},
     "output_type": "execute_result"
    }
   ],
   "source": [
    "wake_up.set_time(hour=7, minute=45)\n",
    "\n",
    "wake_up"
   ]
  },
  {
   "cell_type": "code",
   "execution_count": null,
   "id": "fcc9a819-1675-4a59-b83a-c63ed4244618",
   "metadata": {},
   "outputs": [],
   "source": [
    "#class TIME properties validate the values you assign to them, an invalid value will give you a ValueError"
   ]
  },
  {
   "cell_type": "code",
   "execution_count": 123,
   "id": "28ea3a2f-0417-4a46-97b4-52155bf9009d",
   "metadata": {},
   "outputs": [
    {
     "ename": "ValueError",
     "evalue": "Hour (100) must be 0-23",
     "output_type": "error",
     "traceback": [
      "\u001b[1;31m---------------------------------------------------------------------------\u001b[0m",
      "\u001b[1;31mValueError\u001b[0m                                Traceback (most recent call last)",
      "Input \u001b[1;32mIn [123]\u001b[0m, in \u001b[0;36m<cell line: 1>\u001b[1;34m()\u001b[0m\n\u001b[1;32m----> 1\u001b[0m \u001b[43mwake_up\u001b[49m\u001b[38;5;241;43m.\u001b[39;49m\u001b[43mhour\u001b[49m \u001b[38;5;241m=\u001b[39m \u001b[38;5;241m100\u001b[39m\n",
      "File \u001b[1;32m~\\Documents\\NWMSU\\44-608\\608-mod7\\608-mod7\\ch10\\timewithproperties.py:22\u001b[0m, in \u001b[0;36mTime.hour\u001b[1;34m(self, hour)\u001b[0m\n\u001b[0;32m     20\u001b[0m \u001b[38;5;124;03m\"\"\"Set the hour.\"\"\"\u001b[39;00m\n\u001b[0;32m     21\u001b[0m \u001b[38;5;28;01mif\u001b[39;00m \u001b[38;5;129;01mnot\u001b[39;00m (\u001b[38;5;241m0\u001b[39m \u001b[38;5;241m<\u001b[39m\u001b[38;5;241m=\u001b[39m hour \u001b[38;5;241m<\u001b[39m \u001b[38;5;241m24\u001b[39m):\n\u001b[1;32m---> 22\u001b[0m     \u001b[38;5;28;01mraise\u001b[39;00m \u001b[38;5;167;01mValueError\u001b[39;00m(\u001b[38;5;124mf\u001b[39m\u001b[38;5;124m'\u001b[39m\u001b[38;5;124mHour (\u001b[39m\u001b[38;5;132;01m{\u001b[39;00mhour\u001b[38;5;132;01m}\u001b[39;00m\u001b[38;5;124m) must be 0-23\u001b[39m\u001b[38;5;124m'\u001b[39m)\n\u001b[0;32m     24\u001b[0m \u001b[38;5;28mself\u001b[39m\u001b[38;5;241m.\u001b[39m_hour \u001b[38;5;241m=\u001b[39m hour\n",
      "\u001b[1;31mValueError\u001b[0m: Hour (100) must be 0-23"
     ]
    }
   ],
   "source": [
    "wake_up.hour = 100"
   ]
  },
  {
   "cell_type": "code",
   "execution_count": null,
   "id": "81fc6c24-48da-433e-b06b-d67ea2f841b3",
   "metadata": {},
   "outputs": [],
   "source": []
  },
  {
   "cell_type": "code",
   "execution_count": 124,
   "id": "4cece174-10e7-4a4a-a135-6b73f2d14ab1",
   "metadata": {},
   "outputs": [],
   "source": [
    "#10.4.2 Class Time Definition"
   ]
  },
  {
   "cell_type": "code",
   "execution_count": 125,
   "id": "2c359754-eb5d-435b-872a-3e6d2bccad5e",
   "metadata": {},
   "outputs": [],
   "source": [
    "#time with properties"
   ]
  },
  {
   "cell_type": "code",
   "execution_count": 126,
   "id": "99c918d9-b0b1-40cc-934c-df85fcc60cff",
   "metadata": {},
   "outputs": [],
   "source": [
    "###Class Time with read-write properties.\"\"\"\n",
    "\n",
    "class Time:\n",
    "    \"\"\"Class Time with read-write properties.\"\"\"\n",
    "    def __init__(self, hour=0, minute=0, second=0):\n",
    "        \"\"\"Initialize each attribute.\"\"\"\n",
    "        self.hour = hour #0-23\n",
    "        self.minute = minute # 0-59\n",
    "        self.second = second # 0-59\n",
    "    \n",
    "    @property\n",
    "    def hour(self):\n",
    "        \"\"\"Return the hour.\"\"\"\n",
    "        return self._hour\n",
    "    \n",
    "    @hour.setter\n",
    "    def hour(self, hour):\n",
    "        \"\"\"Set the hour.\"\"\"\n",
    "        if not (0 <= hour < 24):\n",
    "            raise ValueError(f'Hour ({hour}) must be 0-23')\n",
    "            \n",
    "        self._hour = hour\n",
    "    \n",
    "    @property\n",
    "    def minute(self):\n",
    "        \"\"\"Return the minute.\"\"\"\n",
    "        return self._minute\n",
    "    \n",
    "    @minute.setter\n",
    "    def minute(self, minute):\n",
    "        \"\"\"Set the minute.\"\"\"\n",
    "        if not (0 <= minute < 60):\n",
    "            raise ValueError(f'Minute ({minute}) must be 0-59')\n",
    "            \n",
    "        self._minute = minute\n",
    "    \n",
    "    @property\n",
    "    def second(self):\n",
    "        \"\"\"Return the second.\"\"\"\n",
    "        return self._second\n",
    "    \n",
    "    @second.setter\n",
    "    def second(self, second):\n",
    "        \"\"\"Set the second.\"\"\"\n",
    "        if not (0 <= second <60):\n",
    "            raise ValueError(f'Second ({second}) must be 0-59')\n",
    "            \n",
    "        self._second = second"
   ]
  },
  {
   "cell_type": "code",
   "execution_count": null,
   "id": "34e88e5c-af30-46fd-b42f-78069bced49d",
   "metadata": {},
   "outputs": [],
   "source": []
  },
  {
   "cell_type": "code",
   "execution_count": 128,
   "id": "6dd65b94-0931-4a99-9181-abbdf785d0cd",
   "metadata": {},
   "outputs": [],
   "source": [
    "# Class Time: Method set_time\n",
    "\n",
    "def set_time(self, hour=0, minute=0, second=0):\n",
    "    \"\"\"Set values of hour, minute, and second.\"\"\"\n",
    "    self.hour = hour\n",
    "    self.minute = minute\n",
    "    self.second = second"
   ]
  },
  {
   "cell_type": "code",
   "execution_count": 129,
   "id": "2bd5e3ca-ba68-408a-b256-24c1c20b02cb",
   "metadata": {},
   "outputs": [],
   "source": [
    "#Class Time: Special Method __repr__"
   ]
  },
  {
   "cell_type": "code",
   "execution_count": 130,
   "id": "9f500427-f929-454d-8b2e-0f802672d22f",
   "metadata": {},
   "outputs": [],
   "source": [
    "def __repr__(self):\n",
    "    \"\"\"Return Time string for repr().\"\"\"\n",
    "    return (f'Time(hour={self.hour}, minute={self.minute}, ' +\n",
    "            f'second={self.second})')"
   ]
  },
  {
   "cell_type": "code",
   "execution_count": 131,
   "id": "629e1ac9-b16e-4129-beec-c4d3555b1db7",
   "metadata": {},
   "outputs": [],
   "source": [
    "#Class time: Special Method __str__"
   ]
  },
  {
   "cell_type": "code",
   "execution_count": 132,
   "id": "6cac4bbc-15fc-4c5e-ba2b-9c87228e2fff",
   "metadata": {},
   "outputs": [],
   "source": [
    "def __str__(self):\n",
    "    \"\"\"Print Time in 12-hoiur clock format.\"\"\"\n",
    "    return (('12' if self.hour in (0, 12) else str(self.hour % 12)) +\n",
    "            f':{self.minute:0>2}:{self.second:0>2}'+\n",
    "            (' AM' if self.hour < 12 else ' PM'))"
   ]
  },
  {
   "cell_type": "code",
   "execution_count": null,
   "id": "28d3c4c0-9f06-4bd7-afb6-7672d0b584c2",
   "metadata": {},
   "outputs": [],
   "source": []
  },
  {
   "cell_type": "markdown",
   "id": "27e3553e-db93-48c4-97ae-f0e459df32f0",
   "metadata": {},
   "source": [
    "## Dasha Davis Self-Check, p. 369, 10.4.2"
   ]
  },
  {
   "cell_type": "code",
   "execution_count": 140,
   "id": "ccdc14a1-3e48-4cb7-86e8-d72fe7f61422",
   "metadata": {},
   "outputs": [],
   "source": [
    "    @property\n",
    "    def time(self):\n",
    "        \"\"\"Return hour, minute, and second as a tuple.\"\"\"\n",
    "        \n",
    "    @time.setter\n",
    "    def time(self, time_tuple):\n",
    "        \"\"\"Set time from a tuple containing hour, minute and second.\"\"\"\n",
    "        self.set_time(time_tuple[0], time_tuple[1], time_tuple[2])\n",
    "        self.set_time(*time_tuple)\n"
   ]
  },
  {
   "cell_type": "code",
   "execution_count": 141,
   "id": "32a748e7-07b8-448b-8913-e788d254785d",
   "metadata": {},
   "outputs": [
    {
     "data": {
      "text/plain": [
       "Time(hour=0, minute=0, second=0)"
      ]
     },
     "execution_count": 141,
     "metadata": {},
     "output_type": "execute_result"
    }
   ],
   "source": [
    "from timewithproperties import Time\n",
    "\n",
    "t = Time()\n",
    "\n",
    "t"
   ]
  },
  {
   "cell_type": "code",
   "execution_count": 142,
   "id": "1af42fc7-d718-4801-b3fc-6ead79895966",
   "metadata": {},
   "outputs": [],
   "source": [
    "t.time = (12, 30, 45)"
   ]
  },
  {
   "cell_type": "code",
   "execution_count": 143,
   "id": "d4b74885-e000-4b64-9e8f-955fcaafb4d0",
   "metadata": {},
   "outputs": [
    {
     "data": {
      "text/plain": [
       "Time(hour=0, minute=0, second=0)"
      ]
     },
     "execution_count": 143,
     "metadata": {},
     "output_type": "execute_result"
    }
   ],
   "source": [
    "t"
   ]
  },
  {
   "cell_type": "code",
   "execution_count": null,
   "id": "22d028d4-7291-42e3-b150-1760c451ac15",
   "metadata": {},
   "outputs": [],
   "source": [
    "# I don't know why this is not showing as Time(hour=12, minute=30, second=45)"
   ]
  },
  {
   "cell_type": "code",
   "execution_count": 137,
   "id": "41d2ef86-6e93-4a4d-8e4c-40aa0df9cccf",
   "metadata": {},
   "outputs": [
    {
     "data": {
      "text/plain": [
       "(12, 30, 45)"
      ]
     },
     "execution_count": 137,
     "metadata": {},
     "output_type": "execute_result"
    }
   ],
   "source": [
    "t.time"
   ]
  },
  {
   "cell_type": "code",
   "execution_count": null,
   "id": "c088f0e4-7a58-4049-991c-c7c70759758c",
   "metadata": {},
   "outputs": [],
   "source": []
  },
  {
   "cell_type": "code",
   "execution_count": 145,
   "id": "d0028b3e-177a-4fa1-a802-e3a67650158f",
   "metadata": {},
   "outputs": [],
   "source": [
    "# 10.4.3 - Class Time Definition Design Notes"
   ]
  },
  {
   "cell_type": "code",
   "execution_count": 146,
   "id": "97729e5d-08bc-4e3d-a56f-510edf54881a",
   "metadata": {},
   "outputs": [],
   "source": [
    "from timewithproperties import Time"
   ]
  },
  {
   "cell_type": "code",
   "execution_count": 147,
   "id": "1c14feca-3d0c-4a2c-bad6-61a697727ee3",
   "metadata": {},
   "outputs": [],
   "source": [
    "wake_up = Time(hour=7, minute=45, second=30)"
   ]
  },
  {
   "cell_type": "code",
   "execution_count": 148,
   "id": "bd6ea3d4-2f45-4713-9a9e-68507640dc91",
   "metadata": {},
   "outputs": [
    {
     "data": {
      "text/plain": [
       "7"
      ]
     },
     "execution_count": 148,
     "metadata": {},
     "output_type": "execute_result"
    }
   ],
   "source": [
    "wake_up._hour"
   ]
  },
  {
   "cell_type": "code",
   "execution_count": 149,
   "id": "8bf3b5c3-61c9-42fd-9c1d-dc85c994ec82",
   "metadata": {},
   "outputs": [],
   "source": [
    "wake_up._hour = 100"
   ]
  },
  {
   "cell_type": "code",
   "execution_count": 150,
   "id": "f7cef91e-66db-4dc1-8053-9d927576b39f",
   "metadata": {},
   "outputs": [
    {
     "data": {
      "text/plain": [
       "Time(hour=100, minute=45, second=30)"
      ]
     },
     "execution_count": 150,
     "metadata": {},
     "output_type": "execute_result"
    }
   ],
   "source": [
    "wake_up"
   ]
  },
  {
   "cell_type": "code",
   "execution_count": null,
   "id": "5741b6ea-2e43-44aa-a75c-b22dac79b65c",
   "metadata": {},
   "outputs": [],
   "source": []
  },
  {
   "cell_type": "code",
   "execution_count": 152,
   "id": "e85cd66d-0786-41dc-aa40-842954c3c642",
   "metadata": {},
   "outputs": [],
   "source": [
    "#Demonstrating Private Attributes, p. 372"
   ]
  },
  {
   "cell_type": "code",
   "execution_count": 153,
   "id": "2a0c88c0-b1bb-4dc7-99b1-74a186308ab2",
   "metadata": {},
   "outputs": [],
   "source": [
    "# private.py\n",
    "\"\"\"Class with public and private attributes.\"\"\"\n",
    "\n",
    "class PrivateClass:\n",
    "    \"\"\"Class with public and private attributes.\"\"\"\n",
    "    \n",
    "    def __init__(self):\n",
    "        \"\"\"Initializethe public and private attributes.\"\"\"\n",
    "        self.public_data = \"public\"  #public attributes\n",
    "        self.__private_data = \"private\" #  private attribute"
   ]
  },
  {
   "cell_type": "code",
   "execution_count": 154,
   "id": "84e72569-9c3a-4024-aaf0-d3373f95e0b8",
   "metadata": {},
   "outputs": [],
   "source": [
    "from private import PrivateClass"
   ]
  },
  {
   "cell_type": "code",
   "execution_count": 155,
   "id": "00827974-d19c-4b65-a7d6-233d556d10df",
   "metadata": {},
   "outputs": [
    {
     "data": {
      "text/plain": [
       "'public'"
      ]
     },
     "execution_count": 155,
     "metadata": {},
     "output_type": "execute_result"
    }
   ],
   "source": [
    "my_object = PrivateClass()\n",
    "\n",
    "my_object.public_data"
   ]
  },
  {
   "cell_type": "code",
   "execution_count": 156,
   "id": "3c1f78fb-ce81-4dec-baf0-db1a559218fd",
   "metadata": {},
   "outputs": [
    {
     "ename": "AttributeError",
     "evalue": "'PrivateClass' object has no attribute '__private_data'",
     "output_type": "error",
     "traceback": [
      "\u001b[1;31m---------------------------------------------------------------------------\u001b[0m",
      "\u001b[1;31mAttributeError\u001b[0m                            Traceback (most recent call last)",
      "Input \u001b[1;32mIn [156]\u001b[0m, in \u001b[0;36m<cell line: 1>\u001b[1;34m()\u001b[0m\n\u001b[1;32m----> 1\u001b[0m \u001b[43mmy_object\u001b[49m\u001b[38;5;241;43m.\u001b[39;49m\u001b[43m__private_data\u001b[49m\n",
      "\u001b[1;31mAttributeError\u001b[0m: 'PrivateClass' object has no attribute '__private_data'"
     ]
    }
   ],
   "source": [
    "my_object.__private_data"
   ]
  },
  {
   "cell_type": "code",
   "execution_count": null,
   "id": "3dabf9e5-cbed-4cf2-94aa-2737d4400b2f",
   "metadata": {},
   "outputs": [],
   "source": []
  },
  {
   "cell_type": "markdown",
   "id": "d3221d2b-cf6c-44bc-bdfe-36d0f0e435f7",
   "metadata": {},
   "source": [
    "## Self Check, p. 373 10.5"
   ]
  },
  {
   "cell_type": "code",
   "execution_count": 157,
   "id": "d043a9f2-37d2-4142-8432-05b0784e2370",
   "metadata": {},
   "outputs": [
    {
     "data": {
      "text/plain": [
       "'private'"
      ]
     },
     "execution_count": 157,
     "metadata": {},
     "output_type": "execute_result"
    }
   ],
   "source": [
    "my_object._PrivateClass__private_data"
   ]
  },
  {
   "cell_type": "code",
   "execution_count": 158,
   "id": "fc34006e-9d77-4b87-b258-89c94e692503",
   "metadata": {},
   "outputs": [
    {
     "data": {
      "text/plain": [
       "'modified'"
      ]
     },
     "execution_count": 158,
     "metadata": {},
     "output_type": "execute_result"
    }
   ],
   "source": [
    "my_object._PrivateClass__private_data = 'modified'\n",
    "\n",
    "my_object._PrivateClass__private_data"
   ]
  },
  {
   "cell_type": "code",
   "execution_count": null,
   "id": "d4cf072b-fd42-4b70-8ab6-fd00d970c1d7",
   "metadata": {},
   "outputs": [],
   "source": []
  },
  {
   "cell_type": "code",
   "execution_count": 159,
   "id": "86552df2-08e9-4bc4-9443-25b5f8670896",
   "metadata": {},
   "outputs": [],
   "source": [
    "#10.6.1  - Classes Card and DeckOfCards"
   ]
  },
  {
   "cell_type": "code",
   "execution_count": 160,
   "id": "6d860dfd-f61d-49df-9ced-6fc53470134e",
   "metadata": {},
   "outputs": [],
   "source": [
    "from deck import DeckOfCards"
   ]
  },
  {
   "cell_type": "code",
   "execution_count": 161,
   "id": "56cb9f21-5de7-41d0-a355-3970208c3286",
   "metadata": {},
   "outputs": [],
   "source": [
    "deck_of_cards = DeckOfCards()"
   ]
  },
  {
   "cell_type": "code",
   "execution_count": 162,
   "id": "fd2e04d4-e65e-497d-a2cc-34aef4e1f8d4",
   "metadata": {},
   "outputs": [
    {
     "name": "stdout",
     "output_type": "stream",
     "text": [
      "Ace of Hearts      2 of Hearts        3 of Hearts        4 of Hearts        \n",
      "5 of Hearts        6 of Hearts        7 of Hearts        8 of Hearts        \n",
      "9 of Hearts        10 of Hearts       Jack of Hearts     Queen of Hearts    \n",
      "King of Hearts     Ace of Diamonds    2 of Diamonds      3 of Diamonds      \n",
      "4 of Diamonds      5 of Diamonds      6 of Diamonds      7 of Diamonds      \n",
      "8 of Diamonds      9 of Diamonds      10 of Diamonds     Jack of Diamonds   \n",
      "Queen of Diamonds  King of Diamonds   Ace of Clubs       2 of Clubs         \n",
      "3 of Clubs         4 of Clubs         5 of Clubs         6 of Clubs         \n",
      "7 of Clubs         8 of Clubs         9 of Clubs         10 of Clubs        \n",
      "Jack of Clubs      Queen of Clubs     King of Clubs      Ace of Spades      \n",
      "2 of Spades        3 of Spades        4 of Spades        5 of Spades        \n",
      "6 of Spades        7 of Spades        8 of Spades        9 of Spades        \n",
      "10 of Spades       Jack of Spades     Queen of Spades    King of Spades     \n",
      "\n"
     ]
    }
   ],
   "source": [
    "print(deck_of_cards)"
   ]
  },
  {
   "cell_type": "code",
   "execution_count": 163,
   "id": "84fe983a-edae-49eb-8e81-bf1a3ae223d1",
   "metadata": {},
   "outputs": [],
   "source": [
    "deck_of_cards.shuffle()"
   ]
  },
  {
   "cell_type": "code",
   "execution_count": 164,
   "id": "c704f0bd-0cd9-42e6-9f9a-fbef63bbfa4c",
   "metadata": {},
   "outputs": [
    {
     "name": "stdout",
     "output_type": "stream",
     "text": [
      "10 of Hearts       10 of Clubs        3 of Spades        Ace of Clubs       \n",
      "3 of Diamonds      Ace of Diamonds    6 of Spades        3 of Clubs         \n",
      "3 of Hearts        6 of Diamonds      6 of Clubs         4 of Clubs         \n",
      "7 of Clubs         9 of Hearts        9 of Clubs         Jack of Spades     \n",
      "4 of Hearts        Queen of Hearts    King of Clubs      2 of Hearts        \n",
      "10 of Spades       King of Diamonds   2 of Spades        5 of Clubs         \n",
      "2 of Clubs         8 of Spades        5 of Hearts        Queen of Clubs     \n",
      "7 of Spades        Jack of Diamonds   4 of Spades        2 of Diamonds      \n",
      "King of Spades     Ace of Hearts      Ace of Spades      8 of Hearts        \n",
      "Queen of Spades    4 of Diamonds      King of Hearts     10 of Diamonds     \n",
      "Queen of Diamonds  5 of Diamonds      5 of Spades        8 of Clubs         \n",
      "Jack of Hearts     7 of Hearts        7 of Diamonds      Jack of Clubs      \n",
      "9 of Diamonds      9 of Spades        8 of Diamonds      6 of Hearts        \n",
      "\n"
     ]
    }
   ],
   "source": [
    "print(deck_of_cards)"
   ]
  },
  {
   "cell_type": "code",
   "execution_count": 165,
   "id": "db0c7629-04b9-44cd-82fa-47d07fa68e96",
   "metadata": {},
   "outputs": [],
   "source": [
    "#deal one card at a time by calling method deal_card"
   ]
  },
  {
   "cell_type": "code",
   "execution_count": 167,
   "id": "e042ee62-3eeb-4f76-abf3-2bb83295fbf0",
   "metadata": {},
   "outputs": [
    {
     "data": {
      "text/plain": [
       "Card(face='10', suit='Clubs')"
      ]
     },
     "execution_count": 167,
     "metadata": {},
     "output_type": "execute_result"
    }
   ],
   "source": [
    "deck_of_cards.deal_card()\n"
   ]
  },
  {
   "cell_type": "code",
   "execution_count": 168,
   "id": "dfbf1b1b-79c0-48f3-a5dc-1efdaf705fd4",
   "metadata": {},
   "outputs": [],
   "source": [
    "#Card's __str__ method"
   ]
  },
  {
   "cell_type": "code",
   "execution_count": 169,
   "id": "92d7fd81-d4b0-4991-b353-dc688e82fd4e",
   "metadata": {},
   "outputs": [],
   "source": [
    "card = deck_of_cards.deal_card()"
   ]
  },
  {
   "cell_type": "code",
   "execution_count": 170,
   "id": "b47971ba-73f7-4ec9-8580-7f00ad44aa1b",
   "metadata": {},
   "outputs": [
    {
     "data": {
      "text/plain": [
       "'3 of Spades'"
      ]
     },
     "execution_count": 170,
     "metadata": {},
     "output_type": "execute_result"
    }
   ],
   "source": [
    "str(card)"
   ]
  },
  {
   "cell_type": "code",
   "execution_count": 171,
   "id": "88ea2c8a-fba4-409b-859e-bd64c95262b1",
   "metadata": {},
   "outputs": [
    {
     "data": {
      "text/plain": [
       "'3_of_Spades.png'"
      ]
     },
     "execution_count": 171,
     "metadata": {},
     "output_type": "execute_result"
    }
   ],
   "source": [
    "card.image_name"
   ]
  },
  {
   "cell_type": "code",
   "execution_count": null,
   "id": "f3e05684-390b-41e4-bf5f-69ae1ecac93e",
   "metadata": {},
   "outputs": [],
   "source": []
  },
  {
   "cell_type": "code",
   "execution_count": 172,
   "id": "09b4c7cb-e18b-461e-a3cb-5674ce0b8639",
   "metadata": {},
   "outputs": [],
   "source": [
    "#10.6.4, Displaying Card Images with Matplotlib"
   ]
  },
  {
   "cell_type": "code",
   "execution_count": 173,
   "id": "67628659-3802-4df7-99d6-673ba070902b",
   "metadata": {},
   "outputs": [],
   "source": [
    "from deck import DeckOfCards"
   ]
  },
  {
   "cell_type": "code",
   "execution_count": 174,
   "id": "bbd35100-18ea-4d7e-af36-81b356542077",
   "metadata": {},
   "outputs": [],
   "source": [
    "deck_of_cards = DeckOfCards"
   ]
  },
  {
   "cell_type": "code",
   "execution_count": 175,
   "id": "12831c55-d97c-4cc2-a715-bd3f6ddd4952",
   "metadata": {},
   "outputs": [
    {
     "name": "stdout",
     "output_type": "stream",
     "text": [
      "Using matplotlib backend: <object object at 0x00000179CB040B70>\n"
     ]
    }
   ],
   "source": [
    "%matplotlib"
   ]
  },
  {
   "cell_type": "code",
   "execution_count": 176,
   "id": "c4fe1299-98f4-4b1e-9864-63663f816fe0",
   "metadata": {},
   "outputs": [],
   "source": [
    "from pathlib import Path"
   ]
  },
  {
   "cell_type": "code",
   "execution_count": 177,
   "id": "6540a90a-9bb6-4d06-9409-1b04aaf84e6e",
   "metadata": {},
   "outputs": [],
   "source": [
    "path = Path('.').joinpath('card_images')"
   ]
  },
  {
   "cell_type": "code",
   "execution_count": 178,
   "id": "a5d0b55a-d2a5-4332-9e66-7de36899a4ce",
   "metadata": {},
   "outputs": [],
   "source": [
    "import matplotlib.pyplot as plt"
   ]
  },
  {
   "cell_type": "code",
   "execution_count": 179,
   "id": "ef4d14e3-ad74-4a92-b781-795f67412c80",
   "metadata": {},
   "outputs": [],
   "source": [
    "import matplotlib.image as mpimg"
   ]
  },
  {
   "cell_type": "code",
   "execution_count": 189,
   "id": "a0702021-b17b-4a55-aca4-55ce3a5adb5d",
   "metadata": {},
   "outputs": [],
   "source": [
    "figure, axes_list = plt.subplots(nrows=4, ncols=13)"
   ]
  },
  {
   "cell_type": "code",
   "execution_count": 190,
   "id": "24d2ac5e-80ff-4862-9bae-e1b844d73273",
   "metadata": {},
   "outputs": [
    {
     "ename": "TypeError",
     "evalue": "deal_card() missing 1 required positional argument: 'self'",
     "output_type": "error",
     "traceback": [
      "\u001b[1;31m---------------------------------------------------------------------------\u001b[0m",
      "\u001b[1;31mTypeError\u001b[0m                                 Traceback (most recent call last)",
      "Input \u001b[1;32mIn [190]\u001b[0m, in \u001b[0;36m<cell line: 1>\u001b[1;34m()\u001b[0m\n\u001b[0;32m      2\u001b[0m axes\u001b[38;5;241m.\u001b[39mget_xaxis()\u001b[38;5;241m.\u001b[39mset_visible(\u001b[38;5;28;01mFalse\u001b[39;00m)\n\u001b[0;32m      3\u001b[0m axes\u001b[38;5;241m.\u001b[39mget_yaxis()\u001b[38;5;241m.\u001b[39mset_visible(\u001b[38;5;28;01mFalse\u001b[39;00m)\n\u001b[1;32m----> 4\u001b[0m image_name \u001b[38;5;241m=\u001b[39m \u001b[43mdeck_of_cards\u001b[49m\u001b[38;5;241;43m.\u001b[39;49m\u001b[43mdeal_card\u001b[49m\u001b[43m(\u001b[49m\u001b[43m)\u001b[49m\u001b[38;5;241m.\u001b[39mimage_name\n\u001b[0;32m      5\u001b[0m img \u001b[38;5;241m=\u001b[39m mpimg\u001b[38;5;241m.\u001b[39mimread(\u001b[38;5;28mstr\u001b[39m(path\u001b[38;5;241m.\u001b[39mjoinpath(image_name)\u001b[38;5;241m.\u001b[39mresolve()))\n\u001b[0;32m      6\u001b[0m axes\u001b[38;5;241m.\u001b[39mimshow(img)\n",
      "\u001b[1;31mTypeError\u001b[0m: deal_card() missing 1 required positional argument: 'self'"
     ]
    }
   ],
   "source": [
    "for axes in axes_list.ravel():\n",
    "    axes.get_xaxis().set_visible(False)\n",
    "    axes.get_yaxis().set_visible(False)\n",
    "    image_name = deck_of_cards.deal_card().image_name\n",
    "    img = mpimg.imread(str(path.joinpath(image_name).resolve()))\n",
    "    axes.imshow(img)"
   ]
  },
  {
   "cell_type": "code",
   "execution_count": 188,
   "id": "3031db93-2c98-4f78-a6a9-aa5bc51d9123",
   "metadata": {},
   "outputs": [],
   "source": [
    "#I don't know why I'm getting this error."
   ]
  },
  {
   "cell_type": "code",
   "execution_count": 186,
   "id": "9df4a38f-bf7e-438a-9f76-2226a95ec6ab",
   "metadata": {},
   "outputs": [
    {
     "name": "stderr",
     "output_type": "stream",
     "text": [
      "C:\\Users\\Dasha\\AppData\\Local\\Temp\\ipykernel_9788\\1210551376.py:1: UserWarning: Tight layout not applied. tight_layout cannot make axes width small enough to accommodate all axes decorations\n",
      "  figure.tight_layout()\n"
     ]
    }
   ],
   "source": [
    "figure.tight_layout()"
   ]
  },
  {
   "cell_type": "code",
   "execution_count": 3,
   "id": "0a8b800f-d20c-4ff6-8286-1cd7ea4d8746",
   "metadata": {},
   "outputs": [
    {
     "name": "stdout",
     "output_type": "stream",
     "text": [
      "C:\\Users\\Dasha\\Documents\\NWMSU\\44-608\\608-mod7\\608-mod7\\ch10\n"
     ]
    }
   ],
   "source": [
    "cd \"C:\\Users\\Dasha\\Documents\\NWMSU\\44-608\\608-mod7\\608-mod7\\ch10"
   ]
  },
  {
   "cell_type": "code",
   "execution_count": 6,
   "id": "bed81ca8-2e55-443c-9dad-57f7f6f6fd29",
   "metadata": {},
   "outputs": [
    {
     "name": "stdout",
     "output_type": "stream",
     "text": [
      "Using matplotlib backend: TkAgg\n"
     ]
    }
   ],
   "source": [
    "from deck import DeckOfCards\n",
    "\n",
    "deck_of_cards = DeckOfCards()\n",
    "\n",
    "%matplotlib\n",
    "\n",
    "from pathlib import Path\n",
    "\n",
    "path = Path('.').joinpath('card_images')\n",
    "\n",
    "import matplotlib.pyplot as plt\n",
    "\n",
    "import matplotlib.image as mpimg\n",
    "\n",
    "figure, axes_list = plt.subplots(nrows=4, ncols=13)\n",
    "\n",
    "for axes in axes_list.ravel():\n",
    "    axes.get_xaxis().set_visible(False)\n",
    "    axes.get_yaxis().set_visible(False)\n",
    "    image_name = deck_of_cards.deal_card().image_name\n",
    "    img = mpimg.imread(str(path.joinpath(image_name).resolve()))\n",
    "    axes.imshow(img)"
   ]
  },
  {
   "cell_type": "code",
   "execution_count": 5,
   "id": "e7122218-d1b5-4f01-b917-f56ba55ae0be",
   "metadata": {},
   "outputs": [],
   "source": [
    "figure.tight_layout()"
   ]
  },
  {
   "cell_type": "code",
   "execution_count": 7,
   "id": "e0b76ca8-dac5-453e-bfba-864268d00c31",
   "metadata": {},
   "outputs": [],
   "source": [
    "deck_of_cards.shuffle()"
   ]
  },
  {
   "cell_type": "code",
   "execution_count": 8,
   "id": "fe4e7941-85eb-49f1-a1bf-0c8da078a24a",
   "metadata": {},
   "outputs": [],
   "source": [
    "for axes in axes_list.ravel():\n",
    "    axes.get_xaxis().set_visible(False)\n",
    "    axes.get_yaxis().set_visible(False)\n",
    "    image_name = deck_of_cards.deal_card().image_name\n",
    "    img = mpimg.imread(str(path.joinpath(image_name).resolve()))\n",
    "    axes.imshow(img)"
   ]
  },
  {
   "cell_type": "code",
   "execution_count": null,
   "id": "4d29839e-712e-4181-a095-107b2e8c18b3",
   "metadata": {},
   "outputs": [],
   "source": []
  },
  {
   "cell_type": "markdown",
   "id": "1908daef-a5de-4268-a0ef-b9c84df0b233",
   "metadata": {},
   "source": [
    "## Self Check, pg. 381, 10.6.4"
   ]
  },
  {
   "cell_type": "code",
   "execution_count": 9,
   "id": "bac32116-168e-431d-9aa7-e18b05884291",
   "metadata": {},
   "outputs": [],
   "source": [
    "deck_of_cards.shuffle()"
   ]
  },
  {
   "cell_type": "code",
   "execution_count": 10,
   "id": "039d400a-bc19-4df4-8a58-2f970bdf6ebd",
   "metadata": {},
   "outputs": [],
   "source": [
    "figure, axes_list = plt.subplots(nrows=2, ncols=5)"
   ]
  },
  {
   "cell_type": "code",
   "execution_count": 11,
   "id": "66338efe-3647-45d2-a5d1-75f9244992e2",
   "metadata": {},
   "outputs": [],
   "source": [
    "for axes in axes_list.ravel():\n",
    "    axes.get_xaxis().set_visible(False)\n",
    "    axes.get_yaxis().set_visible(False)\n",
    "    image_name = deck_of_cards.deal_card().image_name\n",
    "    img = mpimg.imread(str(path.joinpath(image_name).resolve()))\n",
    "    axes.imshow(img)"
   ]
  },
  {
   "cell_type": "code",
   "execution_count": 12,
   "id": "b4eaae3d-eeb0-4576-8361-5b40fe150f16",
   "metadata": {},
   "outputs": [],
   "source": [
    "figure.tight_layout()"
   ]
  },
  {
   "cell_type": "code",
   "execution_count": null,
   "id": "192a182e-ee4f-452b-b6ef-94a4bd5719fd",
   "metadata": {},
   "outputs": [],
   "source": []
  },
  {
   "cell_type": "code",
   "execution_count": 13,
   "id": "bf48a330-8cf2-4f16-8ba7-b7e5ad469b86",
   "metadata": {},
   "outputs": [],
   "source": [
    "## 10.8.1 Base Class CommissionEmployee"
   ]
  },
  {
   "cell_type": "code",
   "execution_count": null,
   "id": "17830f4e-c45b-4342-8c9b-dc27861d36d3",
   "metadata": {},
   "outputs": [],
   "source": []
  }
 ],
 "metadata": {
  "kernelspec": {
   "display_name": "Python 3 (ipykernel)",
   "language": "python",
   "name": "python3"
  },
  "language_info": {
   "codemirror_mode": {
    "name": "ipython",
    "version": 3
   },
   "file_extension": ".py",
   "mimetype": "text/x-python",
   "name": "python",
   "nbconvert_exporter": "python",
   "pygments_lexer": "ipython3",
   "version": "3.9.12"
  }
 },
 "nbformat": 4,
 "nbformat_minor": 5
}
